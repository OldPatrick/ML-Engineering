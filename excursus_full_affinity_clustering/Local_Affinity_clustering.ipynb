{
 "cells": [
  {
   "cell_type": "code",
   "execution_count": 1,
   "metadata": {
    "execution": {
     "iopub.execute_input": "2022-02-06T14:11:29.570078Z",
     "iopub.status.busy": "2022-02-06T14:11:29.569596Z",
     "iopub.status.idle": "2022-02-06T14:11:30.345818Z",
     "shell.execute_reply": "2022-02-06T14:11:30.345295Z"
    },
    "papermill": {
     "duration": 0.794382,
     "end_time": "2022-02-06T14:11:30.345950",
     "exception": false,
     "start_time": "2022-02-06T14:11:29.551568",
     "status": "completed"
    },
    "tags": []
   },
   "outputs": [],
   "source": [
    "import pandas as pd\n",
    "import numpy as np\n",
    "import sklearn"
   ]
  },
  {
   "cell_type": "code",
   "execution_count": 2,
   "metadata": {
    "execution": {
     "iopub.execute_input": "2022-02-06T14:11:30.367623Z",
     "iopub.status.busy": "2022-02-06T14:11:30.367126Z",
     "iopub.status.idle": "2022-02-06T14:11:30.369843Z",
     "shell.execute_reply": "2022-02-06T14:11:30.369375Z"
    },
    "papermill": {
     "duration": 0.014326,
     "end_time": "2022-02-06T14:11:30.369940",
     "exception": false,
     "start_time": "2022-02-06T14:11:30.355614",
     "status": "completed"
    },
    "tags": []
   },
   "outputs": [],
   "source": [
    "#pip install papermill\n",
    "# scaled data not comparable to starbucks_imputed_scaled, because the notebooks with the \n",
    "# randomized search undergone some reworking, \n",
    "# producing new combinations of best params and thus have different fitting and prediction for imputing"
   ]
  },
  {
   "cell_type": "code",
   "execution_count": 3,
   "metadata": {
    "execution": {
     "iopub.execute_input": "2022-02-06T14:11:30.391074Z",
     "iopub.status.busy": "2022-02-06T14:11:30.390605Z",
     "iopub.status.idle": "2022-02-06T14:11:30.449798Z",
     "shell.execute_reply": "2022-02-06T14:11:30.449426Z"
    },
    "papermill": {
     "duration": 0.070942,
     "end_time": "2022-02-06T14:11:30.449895",
     "exception": false,
     "start_time": "2022-02-06T14:11:30.378953",
     "status": "completed"
    },
    "tags": []
   },
   "outputs": [],
   "source": [
    "from sklearn.cluster import AffinityPropagation\n",
    "from sklearn.metrics.pairwise import euclidean_distances"
   ]
  },
  {
   "cell_type": "code",
   "execution_count": 4,
   "metadata": {
    "execution": {
     "iopub.execute_input": "2022-02-06T14:11:30.470612Z",
     "iopub.status.busy": "2022-02-06T14:11:30.470132Z",
     "iopub.status.idle": "2022-02-06T14:11:30.549224Z",
     "shell.execute_reply": "2022-02-06T14:11:30.549678Z"
    },
    "papermill": {
     "duration": 0.091127,
     "end_time": "2022-02-06T14:11:30.549786",
     "exception": false,
     "start_time": "2022-02-06T14:11:30.458659",
     "status": "completed"
    },
    "tags": []
   },
   "outputs": [],
   "source": [
    "data = pd.read_csv(\"scaled.csv\")"
   ]
  },
  {
   "cell_type": "code",
   "execution_count": 5,
   "metadata": {
    "execution": {
     "iopub.execute_input": "2022-02-06T14:11:30.573263Z",
     "iopub.status.busy": "2022-02-06T14:11:30.572814Z",
     "iopub.status.idle": "2022-02-06T14:11:30.575027Z",
     "shell.execute_reply": "2022-02-06T14:11:30.575414Z"
    },
    "papermill": {
     "duration": 0.0169,
     "end_time": "2022-02-06T14:11:30.575527",
     "exception": false,
     "start_time": "2022-02-06T14:11:30.558627",
     "status": "completed"
    },
    "tags": []
   },
   "outputs": [],
   "source": [
    "data.drop(['Unnamed: 0'], axis=1, inplace=True)"
   ]
  },
  {
   "cell_type": "code",
   "execution_count": 6,
   "metadata": {
    "execution": {
     "iopub.execute_input": "2022-02-06T14:11:30.596287Z",
     "iopub.status.busy": "2022-02-06T14:11:30.595811Z",
     "iopub.status.idle": "2022-02-06T14:11:32.579664Z",
     "shell.execute_reply": "2022-02-06T14:11:32.580032Z"
    },
    "papermill": {
     "duration": 1.995786,
     "end_time": "2022-02-06T14:11:32.580178",
     "exception": false,
     "start_time": "2022-02-06T14:11:30.584392",
     "status": "completed"
    },
    "tags": []
   },
   "outputs": [
    {
     "data": {
      "text/plain": [
       "64.95734866558145"
      ]
     },
     "execution_count": 6,
     "metadata": {},
     "output_type": "execute_result"
    }
   ],
   "source": [
    "euclidean_distances(data, data).max()"
   ]
  },
  {
   "cell_type": "code",
   "execution_count": 7,
   "metadata": {
    "execution": {
     "iopub.execute_input": "2022-02-06T14:11:32.601871Z",
     "iopub.status.busy": "2022-02-06T14:11:32.601408Z",
     "iopub.status.idle": "2022-02-06T14:11:32.604493Z",
     "shell.execute_reply": "2022-02-06T14:11:32.604093Z"
    },
    "papermill": {
     "duration": 0.014943,
     "end_time": "2022-02-06T14:11:32.604588",
     "exception": false,
     "start_time": "2022-02-06T14:11:32.589645",
     "status": "completed"
    },
    "tags": []
   },
   "outputs": [],
   "source": [
    "Aff = AffinityPropagation"
   ]
  },
  {
   "cell_type": "code",
   "execution_count": 8,
   "metadata": {
    "execution": {
     "iopub.execute_input": "2022-02-06T14:11:32.635996Z",
     "iopub.status.busy": "2022-02-06T14:11:32.630881Z",
     "iopub.status.idle": "2022-02-06T14:11:32.678657Z",
     "shell.execute_reply": "2022-02-06T14:11:32.678198Z"
    },
    "papermill": {
     "duration": 0.064972,
     "end_time": "2022-02-06T14:11:32.678751",
     "exception": false,
     "start_time": "2022-02-06T14:11:32.613779",
     "status": "completed"
    },
    "tags": []
   },
   "outputs": [],
   "source": [
    "AffinityPropagation?\n",
    "#https://stats.stackexchange.com/questions/156924/affinity-propagation-sklearn-strange-behavior/323665"
   ]
  },
  {
   "cell_type": "code",
   "execution_count": 9,
   "metadata": {
    "execution": {
     "iopub.execute_input": "2022-02-06T14:11:32.702491Z",
     "iopub.status.busy": "2022-02-06T14:11:32.702033Z",
     "iopub.status.idle": "2022-02-07T23:30:49.871536Z",
     "shell.execute_reply": "2022-02-07T23:30:49.871941Z"
    },
    "papermill": {
     "duration": 119957.184283,
     "end_time": "2022-02-07T23:30:49.872078",
     "exception": false,
     "start_time": "2022-02-06T14:11:32.687795",
     "status": "completed"
    },
    "tags": []
   },
   "outputs": [
    {
     "name": "stdout",
     "output_type": "stream",
     "text": [
      "CPU times: user 1d 9h 19min 29s, sys: 52.4 s, total: 1d 9h 20min 22s\n",
      "Wall time: 1d 9h 19min 17s\n"
     ]
    }
   ],
   "source": [
    "%%time\n",
    "\n",
    "model = Aff(random_state=5, max_iter=50000, preference = -16000).fit(data) \n",
    "#combinations of iter and pref\n",
    "#2500 -55 \n",
    "#15000 -9000 \n",
    "#30000/-14000 \n",
    "#50000/-16000"
   ]
  },
  {
   "cell_type": "code",
   "execution_count": 10,
   "metadata": {
    "execution": {
     "iopub.execute_input": "2022-02-07T23:30:49.901802Z",
     "iopub.status.busy": "2022-02-07T23:30:49.901352Z",
     "iopub.status.idle": "2022-02-07T23:30:49.903844Z",
     "shell.execute_reply": "2022-02-07T23:30:49.904203Z"
    },
    "papermill": {
     "duration": 0.015298,
     "end_time": "2022-02-07T23:30:49.904314",
     "exception": false,
     "start_time": "2022-02-07T23:30:49.889016",
     "status": "completed"
    },
    "tags": []
   },
   "outputs": [],
   "source": [
    "bla = pd.Series(model.labels_)"
   ]
  },
  {
   "cell_type": "code",
   "execution_count": 11,
   "metadata": {
    "execution": {
     "iopub.execute_input": "2022-02-07T23:30:49.926171Z",
     "iopub.status.busy": "2022-02-07T23:30:49.925698Z",
     "iopub.status.idle": "2022-02-07T23:30:49.955599Z",
     "shell.execute_reply": "2022-02-07T23:30:49.955123Z"
    },
    "papermill": {
     "duration": 0.042267,
     "end_time": "2022-02-07T23:30:49.955692",
     "exception": false,
     "start_time": "2022-02-07T23:30:49.913425",
     "status": "completed"
    },
    "tags": []
   },
   "outputs": [],
   "source": [
    "bla.to_csv(\"labels.csv\")"
   ]
  },
  {
   "cell_type": "code",
   "execution_count": 12,
   "metadata": {
    "execution": {
     "iopub.execute_input": "2022-02-07T23:30:49.977570Z",
     "iopub.status.busy": "2022-02-07T23:30:49.977113Z",
     "iopub.status.idle": "2022-02-07T23:30:49.982825Z",
     "shell.execute_reply": "2022-02-07T23:30:49.982375Z"
    },
    "papermill": {
     "duration": 0.018067,
     "end_time": "2022-02-07T23:30:49.982932",
     "exception": false,
     "start_time": "2022-02-07T23:30:49.964865",
     "status": "completed"
    },
    "tags": []
   },
   "outputs": [],
   "source": [
    "bla2 = pd.read_csv(\"labels.csv\")"
   ]
  },
  {
   "cell_type": "code",
   "execution_count": 13,
   "metadata": {
    "execution": {
     "iopub.execute_input": "2022-02-07T23:30:50.006024Z",
     "iopub.status.busy": "2022-02-07T23:30:50.005559Z",
     "iopub.status.idle": "2022-02-07T23:30:50.008664Z",
     "shell.execute_reply": "2022-02-07T23:30:50.009041Z"
    },
    "papermill": {
     "duration": 0.016901,
     "end_time": "2022-02-07T23:30:50.009157",
     "exception": false,
     "start_time": "2022-02-07T23:30:49.992256",
     "status": "completed"
    },
    "tags": []
   },
   "outputs": [
    {
     "data": {
      "text/plain": [
       "Unnamed: 0    16993\n",
       "0                 4\n",
       "dtype: int64"
      ]
     },
     "execution_count": 13,
     "metadata": {},
     "output_type": "execute_result"
    }
   ],
   "source": [
    "bla2.max()\n",
    "# "
   ]
  }
 ],
 "metadata": {
  "kernelspec": {
   "display_name": "Python 3",
   "language": "python",
   "name": "python3"
  },
  "language_info": {
   "codemirror_mode": {
    "name": "ipython",
    "version": 3
   },
   "file_extension": ".py",
   "mimetype": "text/x-python",
   "name": "python",
   "nbconvert_exporter": "python",
   "pygments_lexer": "ipython3",
   "version": "3.8.3"
  },
  "papermill": {
   "default_parameters": {},
   "duration": 119961.901577,
   "end_time": "2022-02-07T23:30:50.425272",
   "environment_variables": {},
   "exception": null,
   "input_path": "Untitled_scaled.ipynb",
   "output_path": "Untitled_scaled.ipynb",
   "parameters": {},
   "start_time": "2022-02-06T14:11:28.523695",
   "version": "2.3.3"
  }
 },
 "nbformat": 4,
 "nbformat_minor": 5
}
