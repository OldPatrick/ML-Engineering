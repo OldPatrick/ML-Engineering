{
 "cells": [
  {
   "cell_type": "code",
   "execution_count": 1,
   "metadata": {},
   "outputs": [],
   "source": [
    "%config Complete.use_jedi = False"
   ]
  },
  {
   "cell_type": "code",
   "execution_count": 2,
   "metadata": {},
   "outputs": [],
   "source": [
    "import pandas as pd\n",
    "import numpy as np"
   ]
  },
  {
   "cell_type": "code",
   "execution_count": 3,
   "metadata": {},
   "outputs": [
    {
     "name": "stdout",
     "output_type": "stream",
     "text": [
      "Wall time: 596 ms\n"
     ]
    }
   ],
   "source": [
    "%%time\n",
    "starbucks_to_map = pd.read_csv(\"./starbucks_data/starbucks_df_per_coupon.csv\")\n",
    "starbucks_id_data = pd.read_csv(\"./starbucks_data/starbucks_df_per_id.csv\")\n",
    "starbucks_imputed = pd.read_csv(\"./starbucks_data/starbucks_imputed.csv\")"
   ]
  },
  {
   "cell_type": "code",
   "execution_count": 4,
   "metadata": {
    "scrolled": true
   },
   "outputs": [
    {
     "data": {
      "text/plain": [
       "True"
      ]
     },
     "execution_count": 4,
     "metadata": {},
     "output_type": "execute_result"
    }
   ],
   "source": [
    "starbucks_id_data.sort_values([\"value\", \"gender\", \"age\", \"became_member_on\"]).tail(2500).value.sum() == \\\n",
    "starbucks_imputed.sort_values([\"value\", \"gender\", \"age\", \"became_member_on\"]).tail(2500).value.sum()"
   ]
  },
  {
   "cell_type": "code",
   "execution_count": 5,
   "metadata": {},
   "outputs": [],
   "source": [
    "starbucks_id_data.sort_values([\"value\", \"gender\", \"age\", \"became_member_on\"], inplace=True)\n",
    "starbucks_imputed.sort_values([\"value\", \"gender\", \"age\", \"became_member_on\"], inplace=True)"
   ]
  },
  {
   "cell_type": "code",
   "execution_count": 6,
   "metadata": {},
   "outputs": [],
   "source": [
    "starbucks_imputed[\"id\"] = starbucks_id_data[\"id\"]"
   ]
  },
  {
   "cell_type": "code",
   "execution_count": 7,
   "metadata": {},
   "outputs": [],
   "source": [
    "starbucks_imputed = starbucks_imputed[[\"id\", \"gender\", \"income\", \"age\"]]"
   ]
  },
  {
   "cell_type": "code",
   "execution_count": 8,
   "metadata": {},
   "outputs": [
    {
     "data": {
      "text/html": [
       "<div>\n",
       "<style scoped>\n",
       "    .dataframe tbody tr th:only-of-type {\n",
       "        vertical-align: middle;\n",
       "    }\n",
       "\n",
       "    .dataframe tbody tr th {\n",
       "        vertical-align: top;\n",
       "    }\n",
       "\n",
       "    .dataframe thead th {\n",
       "        text-align: right;\n",
       "    }\n",
       "</style>\n",
       "<table border=\"1\" class=\"dataframe\">\n",
       "  <thead>\n",
       "    <tr style=\"text-align: right;\">\n",
       "      <th></th>\n",
       "      <th>id</th>\n",
       "      <th>gender</th>\n",
       "      <th>income</th>\n",
       "      <th>age</th>\n",
       "    </tr>\n",
       "  </thead>\n",
       "  <tbody>\n",
       "    <tr>\n",
       "      <th>2580</th>\n",
       "      <td>286424d90dee4e23a07e1f374c69a89e</td>\n",
       "      <td>F</td>\n",
       "      <td>61000.0</td>\n",
       "      <td>23.0</td>\n",
       "    </tr>\n",
       "    <tr>\n",
       "      <th>8318</th>\n",
       "      <td>7d28b5aabc264034809df7217d8b371f</td>\n",
       "      <td>F</td>\n",
       "      <td>38000.0</td>\n",
       "      <td>29.0</td>\n",
       "    </tr>\n",
       "    <tr>\n",
       "      <th>12717</th>\n",
       "      <td>be2ac5f206804533a38fb637bf1cd733</td>\n",
       "      <td>F</td>\n",
       "      <td>47000.0</td>\n",
       "      <td>31.0</td>\n",
       "    </tr>\n",
       "    <tr>\n",
       "      <th>2138</th>\n",
       "      <td>21a2ab1c45bb487d8cd7d4265337e287</td>\n",
       "      <td>F</td>\n",
       "      <td>42000.0</td>\n",
       "      <td>32.0</td>\n",
       "    </tr>\n",
       "    <tr>\n",
       "      <th>2499</th>\n",
       "      <td>270e7fd65f7e45c58b79d0d8ad2c72ab</td>\n",
       "      <td>F</td>\n",
       "      <td>53000.0</td>\n",
       "      <td>33.0</td>\n",
       "    </tr>\n",
       "    <tr>\n",
       "      <th>...</th>\n",
       "      <td>...</td>\n",
       "      <td>...</td>\n",
       "      <td>...</td>\n",
       "      <td>...</td>\n",
       "    </tr>\n",
       "    <tr>\n",
       "      <th>6601</th>\n",
       "      <td>6374af35bb1f4f8dacae61d5072e3113</td>\n",
       "      <td>M</td>\n",
       "      <td>86000.0</td>\n",
       "      <td>50.0</td>\n",
       "    </tr>\n",
       "    <tr>\n",
       "      <th>5620</th>\n",
       "      <td>5473ed61767547b5b6a337872d69dfae</td>\n",
       "      <td>M</td>\n",
       "      <td>103000.0</td>\n",
       "      <td>53.0</td>\n",
       "    </tr>\n",
       "    <tr>\n",
       "      <th>10064</th>\n",
       "      <td>96ff9b56ced445e5b0b07b1b82554113</td>\n",
       "      <td>F</td>\n",
       "      <td>71000.0</td>\n",
       "      <td>36.0</td>\n",
       "    </tr>\n",
       "    <tr>\n",
       "      <th>13814</th>\n",
       "      <td>cf7e4e33c98e4a2489846d97d46cb84e</td>\n",
       "      <td>M</td>\n",
       "      <td>64000.0</td>\n",
       "      <td>32.0</td>\n",
       "    </tr>\n",
       "    <tr>\n",
       "      <th>3469</th>\n",
       "      <td>34fd8ac2a1414a1eace74ed3245517fe</td>\n",
       "      <td>M</td>\n",
       "      <td>97000.0</td>\n",
       "      <td>77.0</td>\n",
       "    </tr>\n",
       "  </tbody>\n",
       "</table>\n",
       "<p>16994 rows × 4 columns</p>\n",
       "</div>"
      ],
      "text/plain": [
       "                                     id gender    income   age\n",
       "2580   286424d90dee4e23a07e1f374c69a89e      F   61000.0  23.0\n",
       "8318   7d28b5aabc264034809df7217d8b371f      F   38000.0  29.0\n",
       "12717  be2ac5f206804533a38fb637bf1cd733      F   47000.0  31.0\n",
       "2138   21a2ab1c45bb487d8cd7d4265337e287      F   42000.0  32.0\n",
       "2499   270e7fd65f7e45c58b79d0d8ad2c72ab      F   53000.0  33.0\n",
       "...                                 ...    ...       ...   ...\n",
       "6601   6374af35bb1f4f8dacae61d5072e3113      M   86000.0  50.0\n",
       "5620   5473ed61767547b5b6a337872d69dfae      M  103000.0  53.0\n",
       "10064  96ff9b56ced445e5b0b07b1b82554113      F   71000.0  36.0\n",
       "13814  cf7e4e33c98e4a2489846d97d46cb84e      M   64000.0  32.0\n",
       "3469   34fd8ac2a1414a1eace74ed3245517fe      M   97000.0  77.0\n",
       "\n",
       "[16994 rows x 4 columns]"
      ]
     },
     "execution_count": 8,
     "metadata": {},
     "output_type": "execute_result"
    }
   ],
   "source": [
    "starbucks_imputed"
   ]
  },
  {
   "cell_type": "code",
   "execution_count": 9,
   "metadata": {},
   "outputs": [],
   "source": [
    "starbucks_to_map.drop(columns=[\"gender\", \"income\", \"age\"], inplace=True)"
   ]
  },
  {
   "cell_type": "code",
   "execution_count": 10,
   "metadata": {},
   "outputs": [],
   "source": [
    "starbucks_to_map.set_index(\"id\", inplace=True)"
   ]
  },
  {
   "cell_type": "code",
   "execution_count": 11,
   "metadata": {},
   "outputs": [],
   "source": [
    "starbucks_imputed.set_index(\"id\", inplace=True)"
   ]
  },
  {
   "cell_type": "code",
   "execution_count": 12,
   "metadata": {},
   "outputs": [],
   "source": [
    "starbucks_final = starbucks_to_map.join(starbucks_imputed, on=\"id\", how=\"left\")"
   ]
  },
  {
   "cell_type": "code",
   "execution_count": 13,
   "metadata": {},
   "outputs": [
    {
     "data": {
      "text/plain": [
       "event                               object\n",
       "coupon_code                         object\n",
       "time                                 int64\n",
       "value                              float64\n",
       "became_member_on                     int64\n",
       "reward                             float64\n",
       "difficulty_offered                 float64\n",
       "duration_offered                   float64\n",
       "offer_type                          object\n",
       "email                              float64\n",
       "social                             float64\n",
       "web                                float64\n",
       "mobile                             float64\n",
       "offer_received                       int64\n",
       "offer_viewed                         int64\n",
       "offer_completed                      int64\n",
       "transaction                          int64\n",
       "offer_views_missed                   int64\n",
       "informational                        int64\n",
       "bogo                                 int64\n",
       "discount                             int64\n",
       "last_time_offer_received             int64\n",
       "last_time_offer_completed            int64\n",
       "first_time_offer_received            int64\n",
       "first_time_offer_completed           int64\n",
       "total_reward_completed             float64\n",
       "total_duration_completed           float64\n",
       "total_difficulty_completed         float64\n",
       "amount_of_paths_completed_part1      int64\n",
       "amount_of_paths_completed_part2      int64\n",
       "amount_of_completed_user_paths       int64\n",
       "mean_time_between_actions          float64\n",
       "gender                              object\n",
       "income                             float64\n",
       "age                                float64\n",
       "dtype: object"
      ]
     },
     "execution_count": 13,
     "metadata": {},
     "output_type": "execute_result"
    }
   ],
   "source": [
    "starbucks_final.dtypes"
   ]
  },
  {
   "cell_type": "code",
   "execution_count": 14,
   "metadata": {},
   "outputs": [],
   "source": [
    "starbucks_final.to_csv(\"./starbucks_data/starbucks_df_per_coupon_imputed.csv\")"
   ]
  }
 ],
 "metadata": {
  "kernelspec": {
   "display_name": "Python 3",
   "language": "python",
   "name": "python3"
  },
  "language_info": {
   "codemirror_mode": {
    "name": "ipython",
    "version": 3
   },
   "file_extension": ".py",
   "mimetype": "text/x-python",
   "name": "python",
   "nbconvert_exporter": "python",
   "pygments_lexer": "ipython3",
   "version": "3.8.3"
  }
 },
 "nbformat": 4,
 "nbformat_minor": 5
}
