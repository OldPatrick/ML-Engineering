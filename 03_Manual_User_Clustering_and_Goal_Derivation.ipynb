{
 "cells": [
  {
   "cell_type": "code",
   "execution_count": null,
   "metadata": {},
   "outputs": [],
   "source": [
    "import pandas as pd\n",
    "import numpy as np\n",
    "import plotly\n",
    "import plotly.express as px\n",
    "starbucks = pd.read_csv(\"./starbucks_data/starbucks_imputed.csv\", sep=\",\")"
   ]
  },
  {
   "cell_type": "code",
   "execution_count": null,
   "metadata": {},
   "outputs": [],
   "source": [
    "pd.options.display.max_columns = None\n",
    "%config Complete.use_jedi = False"
   ]
  },
  {
   "cell_type": "code",
   "execution_count": null,
   "metadata": {},
   "outputs": [],
   "source": [
    "starbucks.info() #no missing"
   ]
  },
  {
   "cell_type": "code",
   "execution_count": null,
   "metadata": {},
   "outputs": [],
   "source": [
    " {\"time\": \"max\", # time will be 0 when member joins and is at its max when making the last action, thus could be a surrogate to membership duration\n",
    "     \"value\": \"sum\", #amount of value generated through all buys\n",
    "     \"gender\": \"max\", #gender of customer\n",
    "     \"age\": \"max\", # age of customer\n",
    "     \"became_member_on\": \"max\", #date/year of membership\n",
    "     \"income\": \"max\", # income of members\n",
    "     \"reward\": \"sum\", # savings a user could make e.g. $30 in total when considerung all purchases\n",
    "     \"offer_received\": \"sum\", #how many offers the user got from the system\n",
    "     \"offer_viewed\": \"sum\", #how many offers the user viewed in the starbucksn app/starbucks service\n",
    "     \"offer_completed\": \"sum\", # how many offers he actually completed, e.g. buying products worth of 10 dollars\n",
    "     \"transaction\": \"sum\", # transaction sum of his purchases, is not equal to a customer value\n",
    "     \"offer_views_missed\": \"sum\", # amount of offer views missed\n",
    "     \"informational\": \"sum\", # amount of informational coupons sended to a customer\n",
    "     \"bogo\": \"sum\", # amount of buyone get one free coupons sended to a customer\n",
    "     \"discount\": \"sum\", # amount of discount coupons sended to a customer\n",
    "     \"total_reward_completed\": \"sum\", # amount of total reward saved by coupons with discount or bogo of completed coupouns\n",
    "     \"total_duration_completed\": \"mean\", # time a user would need to fulfill a coupon, set by starbucks of completed coupouns\n",
    "     \"total_difficulty_completed\": \"mean\", # difficulty rating to fulfill a coupon set by starbucks of completed coupouns\n",
    "     \"difficulty_offered\": \"mean\", # difficulty rating to fulfill a coupon set by starbucks of all coupons offered\n",
    "     \"duration_offered\": \"mean\", # duration to fullfill a coupon set by starbucks of all coupons offered\n",
    "     \"last_time_offer_received\": \"max\", # last time an offer was received by the customer\n",
    "     \"last_time_offer_completed\": \"max\", # last time an offer was completed by the customer\n",
    "     \"first_time_offer_received\": \"min\", # first time an offer was received by the customer\n",
    "     \"first_time_offer_completed\": \"min\", # first time an offer was completed by the customer\n",
    "     \"mean_time_between_actions\": \"mean\", # mean time of user between an action recorded by starbucks\n",
    "     \"amount_of_completed_user_paths\": \"sum\",# amount of full user paths, that means tha an offer is first viewed before completed\n",
    "     \"email\": \"sum\", # amount of possible channels a user can be contacted by a coupon, if a coupon is send by email and social and a user gets 2 coupons, he gets a 2 on email and social\n",
    "     \"social\": \"sum\",\n",
    "     \"web\": \"sum\",\n",
    "     \"mobile\": \"sum\"\n",
    "    }"
   ]
  },
  {
   "cell_type": "code",
   "execution_count": null,
   "metadata": {},
   "outputs": [],
   "source": [
    "starbucks.describe()"
   ]
  },
  {
   "cell_type": "markdown",
   "metadata": {},
   "source": [
    "- youngest customer seems to be 18 and the mean around 50, ignoring max with imputing atm, income is vastly \n",
    "- different ranging from a very small one of 30000 to 120000. Gives us alreay a hint that everyone despite \n",
    "his/her income enjoy the product, may give us a hint on the socio-economic status\n",
    "- the highest amount of dollars that could be saved was 165 dollars but the highest really saved was 55, \n",
    "so a loss of 110 at its max\n",
    "- informational coupons were not send as ofen as bogo or discount, looking at mean and max vaules (1.53, vs 4.21 bogo and 4.11 discount), 10, 18, 17\n",
    "- furthermore the difficulty from completed offers would speak mostly for informational offers, however remembering that we only took the mean of all offers a user fulfilled, that could tell us that on average they do not (on purpose or not) invest much time on fulfilling these coupons only as much time as on an informational add.\n",
    "- mean time between actions are 38 time units . we do not know what that means, but assuming we have a time range of a max of 714 in the time column, we could assume its the amount of days, telling us that \n",
    "- users have on average a contact with the brand all 38 days. which seems not much, but for rmembering that we have a lot of low income cutomers, that could make sense, that once in a month it has to be something special (ignoring they could go for other products as well)\n",
    "- amount of completed user_paths where in the mean not fulfilled once. Thus, this is very essential, the typical customer journey where a user sees the offer and tries to fulfill it is on average never fulfilled., It seems they are most of the time fulfilling it randomly, however there are users, heavy users that hav a max of 6 and try heavily to fulfill these.\n",
    "- email and mobile re heavy channels for users where they get their coupons at (mean)"
   ]
  },
  {
   "cell_type": "code",
   "execution_count": null,
   "metadata": {},
   "outputs": [],
   "source": [
    "#specific statistics that lead to ml questions we want to answer\n",
    "#2.) # which user brings what transactional sum\n",
    "#1. )# clusters of user who fulfilled the paths and not\n",
    "# first questions which users to target"
   ]
  },
  {
   "cell_type": "code",
   "execution_count": null,
   "metadata": {},
   "outputs": [],
   "source": [
    "#Now we look at the distributions with the imputed values again\n",
    "fig = px.histogram(starbucks, x=\"income\", color=starbucks.amount_of_completed_user_paths, marginal=\"violin\",\n",
    "                         hover_data=starbucks.columns, width=1000, height=800)\n",
    "fig.show()"
   ]
  },
  {
   "cell_type": "code",
   "execution_count": null,
   "metadata": {},
   "outputs": [],
   "source": [
    "#and look at the median of those\n",
    "# those who have not fulfilled the path, have the lowest income, the higher the income, the more ppl look at savings in form of a coupon...controversial right\n",
    "# and it grows to around 72k when amount of fulfilled paths are two, which seems that there is no coincedence anymore (assuming that fulfillment of 1 per coincedence is possible)"
   ]
  },
  {
   "cell_type": "code",
   "execution_count": null,
   "metadata": {},
   "outputs": [],
   "source": [
    "#Thus we could cluster for ppl that care about the paths and search for it or not, we can also look what type of coupons all these users get, \n",
    "#remember we already saw in general that low income users get compared to high income users more informational coupons:\n",
    "#bogo high: 31409\n",
    "#bogo low: 32425\n",
    "#discount high: 30769\n",
    "#discount low: 31542\n",
    "#informational high: 10529\n",
    "#informational low: 12131\n"
   ]
  },
  {
   "cell_type": "code",
   "execution_count": null,
   "metadata": {},
   "outputs": [],
   "source": [
    "#3.) Do users with fulfilled paths bring more or less transactional sums?\n",
    "#Now we look at the distributions with the imputed values again\n",
    "fig = px.histogram(starbucks, x=\"transaction\", color=starbucks.amount_of_completed_user_paths, marginal=\"violin\",\n",
    "                         hover_data=starbucks.columns, width=1000, height=800)\n",
    "fig.show()"
   ]
  },
  {
   "cell_type": "code",
   "execution_count": null,
   "metadata": {},
   "outputs": [],
   "source": [
    "#does this also account for value?\n",
    "\n",
    "fig = px.histogram(starbucks, x=\"value\", color=starbucks.amount_of_completed_user_paths, marginal=\"violin\",\n",
    "                         hover_data=starbucks.columns, width=1000, height=800)\n",
    "fig.show()\n",
    "\n",
    "#yes"
   ]
  },
  {
   "cell_type": "code",
   "execution_count": null,
   "metadata": {},
   "outputs": [],
   "source": [
    "fig = px.histogram(starbucks, x=\"total_difficulty_completed\", color=starbucks.amount_of_completed_user_paths, marginal=\"violin\",\n",
    "                         hover_data=starbucks.columns, width=1000, height=800)\n",
    "fig.show()"
   ]
  },
  {
   "cell_type": "code",
   "execution_count": null,
   "metadata": {},
   "outputs": [],
   "source": [
    "# since on average it only takes for everyone a difficulty of 1 of fulfilled difficulties, its not that hard to llok for extra savings \n",
    "# on average three although the max is a 10 !, so the higher the amount of paths the higher the difficulty or a better saying because it takes not that much effort, there are a few ppl who spend the time in saving money, wonderous these are not the low income ppl\n",
    "\n",
    "# questions"
   ]
  },
  {
   "cell_type": "code",
   "execution_count": null,
   "metadata": {},
   "outputs": [],
   "source": [
    "fig = px.histogram(starbucks, x=\"discount\", color=starbucks.amount_of_completed_user_paths, marginal=\"violin\",\n",
    "                         hover_data=starbucks.columns, width=1000, height=800)\n",
    "fig.show()"
   ]
  },
  {
   "cell_type": "code",
   "execution_count": null,
   "metadata": {},
   "outputs": [],
   "source": [
    "# indeed, so we could now target those, who have high income and are on savings or not,\n",
    "# first we 4.) forecast if a user falls into a category of searching for fulfuilled paths #recategorize amount of pahts > 2 for a searcher\n",
    "# these have the highest value, give them, so forecast if a user will be a searcher for coupons, kill features that are not known upfront\n",
    "\n",
    "# then we forecast its value given all these things, without using all the other features. when we know we can now decide \n",
    "# since high spenders look for savings have a higher income, give them more coupons with less average time, so they spend their high income more\n",
    "\n",
    "# give low incomes more chance to fulfill a coupon maybe not send them the informational ones, give them more bogos or discount"
   ]
  },
  {
   "cell_type": "code",
   "execution_count": null,
   "metadata": {},
   "outputs": [],
   "source": [
    "fig = px.histogram(starbucks, x=\"mean_time_between_actions\", color=starbucks.amount_of_completed_user_paths, marginal=\"violin\",\n",
    "                         hover_data=starbucks.columns, width=1000, height=800)\n",
    "fig.show()\n",
    "# mean time between actions are also for searchers lower, thus underpins everything"
   ]
  },
  {
   "cell_type": "code",
   "execution_count": null,
   "metadata": {},
   "outputs": [],
   "source": [
    "completed_user_paths = starbucks[starbucks.amount_of_completed_user_paths > 1]\n",
    "unique, counts = np.unique(completed_user_paths.amount_of_completed_user_paths, return_counts=True)\n",
    "counts"
   ]
  },
  {
   "cell_type": "code",
   "execution_count": null,
   "metadata": {},
   "outputs": [],
   "source": [
    "# 5.) now that we know we have to target searchers from non-searchers differently ignoring a lot of features upfront, \n",
    "# the last part will be, that due to variety seeking from time to time both user catgories need a different coupon to be forecasted, for that we need all features we had before and forecast the next best action\n",
    "# which coupon, so that he will spend more."
   ]
  },
  {
   "cell_type": "code",
   "execution_count": null,
   "metadata": {},
   "outputs": [],
   "source": [
    "# Summary of eonomic questions adressing the questions from the proposal also:\n",
    "# 1.) which user clusters structures are in our data structure\n",
    "# 2.) are these similar to our fulfilled paths users?\n",
    "# 3.) If yes, which we strongly believe, which users ctagoery generates the highest transactional ums in the mean\n",
    "# 4.) so we need to forecast first, when a user enters the databse will he be a searcher for coupons or not (ignoring all features first)\n",
    "# 5.) when he has a category, what transactioanl sum could we await solely from his features, that were not known upfront.\n",
    "# 6.) given the users stays at least 1 and a half year in the data base, and his status is clear (although he may transition from one cluster to another) what will be the next best coupon given his searcher /non searcher status, so that we get more income from him"
   ]
  },
  {
   "cell_type": "code",
   "execution_count": null,
   "metadata": {},
   "outputs": [],
   "source": [
    "# so we see users that have a lot of fulfilled user paths due to coupons have more transactions more value they generate and their decisons are faster\n",
    "\n",
    "# thus we have clusters of users with amount of user paths that have more value, do we find these naturally ? Like hardcore starbucks users?\n",
    "#  try with two different approaches and aws"
   ]
  }
 ],
 "metadata": {
  "kernelspec": {
   "display_name": "Python 3",
   "language": "python",
   "name": "python3"
  },
  "language_info": {
   "codemirror_mode": {
    "name": "ipython",
    "version": 3
   },
   "file_extension": ".py",
   "mimetype": "text/x-python",
   "name": "python",
   "nbconvert_exporter": "python",
   "pygments_lexer": "ipython3",
   "version": "3.8.3"
  }
 },
 "nbformat": 4,
 "nbformat_minor": 5
}
